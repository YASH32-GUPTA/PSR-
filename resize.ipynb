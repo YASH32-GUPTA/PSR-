{
 "cells": [
  {
   "cell_type": "code",
   "id": "initial_id",
   "metadata": {
    "collapsed": true,
    "ExecuteTime": {
     "end_time": "2025-10-14T12:40:02.520098Z",
     "start_time": "2025-10-14T12:40:02.409776Z"
    }
   },
   "source": [
    "import os\n",
    "from PIL import Image\n",
    "\n",
    "# Folders\n",
    "input_folder = \"D:/Major/PSR/retinexformer-env/Retinexformer/lol_dataset/AlphaTesting\"\n",
    "output_folder = \"D:/Major/PSR/retinexformer-env/Retinexformer/lol_dataset/AlphaTesting/Resized\"\n",
    "\n",
    "# Create output folder\n",
    "os.makedirs(output_folder, exist_ok=True)\n",
    "\n",
    "# Target size\n",
    "target_size = (600, 400)\n",
    "\n",
    "# Process all files\n",
    "for filename in os.listdir(input_folder):\n",
    "    file_path = os.path.join(input_folder, filename)\n",
    "\n",
    "    if os.path.isfile(file_path):\n",
    "        try:\n",
    "            # Open image\n",
    "            img = Image.open(file_path)\n",
    "\n",
    "            # Resize\n",
    "            img_resized = img.resize(target_size)\n",
    "\n",
    "            # Save resized image (same format)\n",
    "            save_path = os.path.join(output_folder, filename)\n",
    "            img_resized.save(save_path)\n",
    "\n",
    "            print(f\"Resized: {filename} -> {save_path}\")\n",
    "\n",
    "        except Exception as e:\n",
    "            print(f\"Failed to process {filename}: {e}\")\n",
    "\n",
    "print(\"All images resized.\")\n"
   ],
   "outputs": [
    {
     "name": "stdout",
     "output_type": "stream",
     "text": [
      "Resized: moon_6.png -> D:/Major/PSR/retinexformer-env/Retinexformer/lol_dataset/AlphaTesting/Resized\\moon_6.png\n",
      "Resized: moon_7.png -> D:/Major/PSR/retinexformer-env/Retinexformer/lol_dataset/AlphaTesting/Resized\\moon_7.png\n",
      "All images resized.\n"
     ]
    }
   ],
   "execution_count": 3
  }
 ],
 "metadata": {
  "kernelspec": {
   "display_name": "Python 3",
   "language": "python",
   "name": "python3"
  },
  "language_info": {
   "codemirror_mode": {
    "name": "ipython",
    "version": 2
   },
   "file_extension": ".py",
   "mimetype": "text/x-python",
   "name": "python",
   "nbconvert_exporter": "python",
   "pygments_lexer": "ipython2",
   "version": "2.7.6"
  }
 },
 "nbformat": 4,
 "nbformat_minor": 5
}
